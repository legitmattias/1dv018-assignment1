{
 "cells": [
  {
   "cell_type": "code",
   "execution_count": 1,
   "id": "cad32410",
   "metadata": {},
   "outputs": [
    {
     "name": "stdout",
     "output_type": "stream",
     "text": [
      "41.2 ns ± 0.26 ns per loop (mean ± std. dev. of 7 runs, 10,000,000 loops each)\n"
     ]
    }
   ],
   "source": [
    "\n",
    "def slope(c1,c2):\n",
    "    x0,y0=c1\n",
    "    x1,y1=c2\n",
    "    return (y1-y0)/(x1-x0)\n",
    "\n",
    "%timeit slope((0,0),(2,10))"
   ]
  },
  {
   "cell_type": "code",
   "execution_count": null,
   "id": "3a1ace63",
   "metadata": {},
   "outputs": [],
   "source": []
  }
 ],
 "metadata": {
  "kernelspec": {
   "display_name": ".venv",
   "language": "python",
   "name": "python3"
  },
  "language_info": {
   "codemirror_mode": {
    "name": "ipython",
    "version": 3
   },
   "file_extension": ".py",
   "mimetype": "text/x-python",
   "name": "python",
   "nbconvert_exporter": "python",
   "pygments_lexer": "ipython3",
   "version": "3.12.3"
  }
 },
 "nbformat": 4,
 "nbformat_minor": 5
}
